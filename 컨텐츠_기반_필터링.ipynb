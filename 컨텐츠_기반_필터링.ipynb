{
  "nbformat": 4,
  "nbformat_minor": 0,
  "metadata": {
    "colab": {
      "name": "컨텐츠 기반 필터링.ipynb",
      "provenance": [],
      "collapsed_sections": [],
      "authorship_tag": "ABX9TyOBlNQ+dMjcuhMtn3nNsLGX",
      "include_colab_link": true
    },
    "kernelspec": {
      "name": "python3",
      "display_name": "Python 3"
    },
    "language_info": {
      "name": "python"
    }
  },
  "cells": [
    {
      "cell_type": "markdown",
      "metadata": {
        "id": "view-in-github",
        "colab_type": "text"
      },
      "source": [
        "<a href=\"https://colab.research.google.com/github/dandihara/recommandation_practice/blob/main/%EC%BB%A8%ED%85%90%EC%B8%A0_%EA%B8%B0%EB%B0%98_%ED%95%84%ED%84%B0%EB%A7%81.ipynb\" target=\"_parent\"><img src=\"https://colab.research.google.com/assets/colab-badge.svg\" alt=\"Open In Colab\"/></a>"
      ]
    },
    {
      "cell_type": "code",
      "execution_count": 3,
      "metadata": {
        "colab": {
          "base_uri": "https://localhost:8080/"
        },
        "id": "aeYVVK2w7Nxk",
        "outputId": "49ddb6b0-72e6-4658-c887-0faae9edacd9"
      },
      "outputs": [
        {
          "output_type": "stream",
          "name": "stdout",
          "text": [
            "[{'price': 114000, 'brand': 'Jordan', 'grip_score': 0.0, 'light_score': 1.7, 'comfortable': 1.8}, {'price': 149000, 'brand': 'Jordan', 'grip_score': 4.3, 'light_score': 4.4, 'comfortable': 4.6}, {'price': 194000, 'brand': 'Nike', 'grip_score': 2.4, 'light_score': 4.2, 'comfortable': 4.8}, {'price': 151000, 'brand': 'Nike', 'grip_score': 1.9, 'light_score': 2.4, 'comfortable': 1.1}, {'price': 142000, 'brand': 'Jordan', 'grip_score': 0.9, 'light_score': 0.4, 'comfortable': 0.4}, {'price': 162000, 'brand': 'Adidas', 'grip_score': 2.5, 'light_score': 2.3, 'comfortable': 1.6}, {'price': 104000, 'brand': 'Jordan', 'grip_score': 4.2, 'light_score': 4.9, 'comfortable': 3.8}, {'price': 190000, 'brand': 'Jordan', 'grip_score': 3.7, 'light_score': 4.9, 'comfortable': 1.2}, {'price': 150000, 'brand': 'Nike', 'grip_score': 2.3, 'light_score': 2.8, 'comfortable': 2.6}, {'price': 96000, 'brand': 'Adidas', 'grip_score': 0.1, 'light_score': 1.3, 'comfortable': 1.1}, {'price': 184000, 'brand': 'Jordan', 'grip_score': 4.4, 'light_score': 3.2, 'comfortable': 2.6}, {'price': 132000, 'brand': 'Adidas', 'grip_score': 3.1, 'light_score': 3.5, 'comfortable': 2.7}, {'price': 190000, 'brand': 'Jordan', 'grip_score': 4.0, 'light_score': 0.1, 'comfortable': 0.6}, {'price': 141000, 'brand': 'Adidas', 'grip_score': 1.5, 'light_score': 4.8, 'comfortable': 0.8}, {'price': 150000, 'brand': 'Adidas', 'grip_score': 2.5, 'light_score': 0.5, 'comfortable': 4.1}, {'price': 145000, 'brand': 'Nike', 'grip_score': 0.0, 'light_score': 1.9, 'comfortable': 3.4}, {'price': 196000, 'brand': 'Adidas', 'grip_score': 3.9, 'light_score': 2.1, 'comfortable': 2.2}, {'price': 149000, 'brand': 'Nike', 'grip_score': 3.0, 'light_score': 0.9, 'comfortable': 1.8}, {'price': 111000, 'brand': 'Nike', 'grip_score': 4.2, 'light_score': 1.8, 'comfortable': 3.8}, {'price': 107000, 'brand': 'Nike', 'grip_score': 4.3, 'light_score': 2.0, 'comfortable': 3.0}, {'price': 122000, 'brand': 'Nike', 'grip_score': 1.1, 'light_score': 1.6, 'comfortable': 1.9}, {'price': 163000, 'brand': 'Jordan', 'grip_score': 0.4, 'light_score': 2.4, 'comfortable': 0.5}, {'price': 148000, 'brand': 'Jordan', 'grip_score': 3.6, 'light_score': 4.4, 'comfortable': 2.6}, {'price': 147000, 'brand': 'Jordan', 'grip_score': 1.9, 'light_score': 4.6, 'comfortable': 1.6}, {'price': 101000, 'brand': 'Adidas', 'grip_score': 2.8, 'light_score': 1.6, 'comfortable': 3.4}, {'price': 189000, 'brand': 'Nike', 'grip_score': 1.2, 'light_score': 0.3, 'comfortable': 0.1}, {'price': 122000, 'brand': 'Adidas', 'grip_score': 4.2, 'light_score': 0.4, 'comfortable': 4.6}, {'price': 134000, 'brand': 'Nike', 'grip_score': 1.2, 'light_score': 1.9, 'comfortable': 3.4}, {'price': 199000, 'brand': 'Adidas', 'grip_score': 1.5, 'light_score': 2.1, 'comfortable': 2.2}, {'price': 115000, 'brand': 'Nike', 'grip_score': 3.2, 'light_score': 4.6, 'comfortable': 2.2}, {'price': 194000, 'brand': 'Nike', 'grip_score': 1.1, 'light_score': 3.0, 'comfortable': 1.8}, {'price': 146000, 'brand': 'Adidas', 'grip_score': 1.8, 'light_score': 0.6, 'comfortable': 3.3}, {'price': 143000, 'brand': 'Jordan', 'grip_score': 2.7, 'light_score': 0.0, 'comfortable': 3.7}, {'price': 105000, 'brand': 'Jordan', 'grip_score': 1.1, 'light_score': 2.0, 'comfortable': 4.5}, {'price': 138000, 'brand': 'Adidas', 'grip_score': 3.3, 'light_score': 4.4, 'comfortable': 4.1}, {'price': 107000, 'brand': 'Nike', 'grip_score': 4.5, 'light_score': 3.2, 'comfortable': 2.6}, {'price': 148000, 'brand': 'Adidas', 'grip_score': 0.6, 'light_score': 1.9, 'comfortable': 1.6}, {'price': 101000, 'brand': 'Jordan', 'grip_score': 4.2, 'light_score': 0.2, 'comfortable': 1.8}, {'price': 166000, 'brand': 'Adidas', 'grip_score': 4.6, 'light_score': 0.6, 'comfortable': 0.5}, {'price': 192000, 'brand': 'Adidas', 'grip_score': 3.3, 'light_score': 3.6, 'comfortable': 1.9}, {'price': 146000, 'brand': 'Nike', 'grip_score': 2.9, 'light_score': 0.2, 'comfortable': 2.8}, {'price': 193000, 'brand': 'Nike', 'grip_score': 1.4, 'light_score': 1.3, 'comfortable': 2.2}, {'price': 93000, 'brand': 'Adidas', 'grip_score': 0.8, 'light_score': 1.5, 'comfortable': 2.2}, {'price': 146000, 'brand': 'Jordan', 'grip_score': 3.4, 'light_score': 1.0, 'comfortable': 3.1}, {'price': 97000, 'brand': 'Nike', 'grip_score': 0.2, 'light_score': 2.8, 'comfortable': 2.4}, {'price': 143000, 'brand': 'Nike', 'grip_score': 2.3, 'light_score': 4.8, 'comfortable': 0.6}, {'price': 132000, 'brand': 'Nike', 'grip_score': 0.3, 'light_score': 3.9, 'comfortable': 3.1}, {'price': 109000, 'brand': 'Jordan', 'grip_score': 1.1, 'light_score': 1.7, 'comfortable': 1.7}, {'price': 156000, 'brand': 'Adidas', 'grip_score': 4.1, 'light_score': 2.0, 'comfortable': 1.2}, {'price': 145000, 'brand': 'Jordan', 'grip_score': 3.3, 'light_score': 2.4, 'comfortable': 1.1}]\n"
          ]
        }
      ],
      "source": [
        "# 신발간의 유사도를 이용 할 것이다.\n",
        "# 가격 / 브랜드 / 착화감 / 경량성 / 편의성 순으로 데이터화\n",
        "# 예시 데이터 제작\n",
        "brand_list = ['Adidas','Nike','Jordan','New Balace']\n",
        "product_list = []\n",
        "\n",
        "import random\n",
        "\n",
        "for i in range(10):\n",
        "  tmp = {}\n",
        "  tmp['price'] = random.randrange(90,200)*1000 # 9만부터 20만까지\n",
        "  tmp['brand'] = brand_list[random.randrange(3)]\n",
        "  tmp['grip_score'] = round(random.uniform(0,5),1)\n",
        "  tmp['light_score'] = round(random.uniform(0,5),1)\n",
        "  tmp['comfortable'] = round(random.uniform(0,5),1)\n",
        "\n",
        "  product_list.append(tmp)\n",
        "\n",
        "print(product_list)"
      ]
    },
    {
      "cell_type": "code",
      "source": [
        "#코사인 유사도\n",
        "#벡터의 내적을 이용하여 만든 계산\n",
        "#벡터(데이터)가 이루는 각도의 값을 이용하여 계산\n",
        "# 코사인 0도 => 1 , 90도 => 0, 180도 => 1 \n"
      ],
      "metadata": {
        "id": "LfqNCSOFKwSr"
      },
      "execution_count": null,
      "outputs": []
    },
    {
      "cell_type": "code",
      "source": [
        "# 유클리디안 유사도\n",
        "# 유클리드 거리 - 두 점 사이의 거리를 계산하는 방식을 이용\n",
        "# 두 점 사이의 거리 즉, 유클리드 거릿값이 클수록 유사도가 적은 것이고 작을수록 유사도가 높다. 작은 값부터 차례대로 유저에게 추천을 한다면 이론상은 맞다.\n",
        "# 브랜드는 비교시에 같으면 1 아니면 0 으로\n",
        "\n",
        "import math \n",
        "\n",
        "for i in range(len(product_list)):\n",
        "  for j in range(len(product_list)):\n",
        "    brand_flag  = 0\n",
        "    if product_list[i]['brand'] == product_list[j]['brand']:\n",
        "      brand_flag = 1\n",
        "    dis = math.sqrt(pow(product_list[i]['grip_score']-product_list[j]['grip_score'],2) + pow(product_list[i]['light_score'] - product_list[j]['light_score'],2) + pow(product_list[i]['comfortable'] - product_list[j]['comfortable'],2))"
      ],
      "metadata": {
        "id": "elWtuLTV-Znp"
      },
      "execution_count": 14,
      "outputs": []
    },
    {
      "cell_type": "code",
      "source": [
        "print(product_list[0])\n",
        "print(product_list[9])"
      ],
      "metadata": {
        "colab": {
          "base_uri": "https://localhost:8080/"
        },
        "id": "sreHO56jL3xz",
        "outputId": "aaaf8d7e-c6bb-4d17-8a71-884c520a9b3a"
      },
      "execution_count": 13,
      "outputs": [
        {
          "output_type": "stream",
          "name": "stdout",
          "text": [
            "{'price': 114000, 'brand': 'Jordan', 'grip_score': 0.0, 'light_score': 1.7, 'comfortable': 1.8}\n",
            "{'price': 96000, 'brand': 'Adidas', 'grip_score': 0.1, 'light_score': 1.3, 'comfortable': 1.1}\n"
          ]
        }
      ]
    }
  ]
}
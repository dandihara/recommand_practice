{
  "nbformat": 4,
  "nbformat_minor": 0,
  "metadata": {
    "colab": {
      "name": "컨텐츠 기반 필터링.ipynb",
      "provenance": [],
      "collapsed_sections": [],
      "authorship_tag": "ABX9TyNKt0MwIYH09RG7HRRAhpds",
      "include_colab_link": true
    },
    "kernelspec": {
      "name": "python3",
      "display_name": "Python 3"
    },
    "language_info": {
      "name": "python"
    }
  },
  "cells": [
    {
      "cell_type": "markdown",
      "metadata": {
        "id": "view-in-github",
        "colab_type": "text"
      },
      "source": [
        "<a href=\"https://colab.research.google.com/github/dandihara/recommandation_practice/blob/main/%EC%BB%A8%ED%85%90%EC%B8%A0_%EA%B8%B0%EB%B0%98_%ED%95%84%ED%84%B0%EB%A7%81.ipynb\" target=\"_parent\"><img src=\"https://colab.research.google.com/assets/colab-badge.svg\" alt=\"Open In Colab\"/></a>"
      ]
    },
    {
      "cell_type": "markdown",
      "source": [
        "**데이터 생성**"
      ],
      "metadata": {
        "id": "NNgn60gsJ6jj"
      }
    },
    {
      "cell_type": "code",
      "execution_count": 2,
      "metadata": {
        "colab": {
          "base_uri": "https://localhost:8080/"
        },
        "id": "aeYVVK2w7Nxk",
        "outputId": "fa7e8e43-7614-4f8e-fdf9-a2012303f313"
      },
      "outputs": [
        {
          "output_type": "stream",
          "name": "stdout",
          "text": [
            "[{'price': 92000, 'brand': 'Adidas', 'grip_score': 2.4, 'light_score': 1.7, 'comfortable': 1.1}, {'price': 109000, 'brand': 'Nike', 'grip_score': 0.9, 'light_score': 0.3, 'comfortable': 4.8}, {'price': 148000, 'brand': 'Nike', 'grip_score': 3.0, 'light_score': 4.6, 'comfortable': 3.9}, {'price': 145000, 'brand': 'Nike', 'grip_score': 4.8, 'light_score': 0.4, 'comfortable': 0.9}, {'price': 195000, 'brand': 'Jordan', 'grip_score': 3.5, 'light_score': 3.8, 'comfortable': 1.3}, {'price': 186000, 'brand': 'Jordan', 'grip_score': 3.4, 'light_score': 4.4, 'comfortable': 2.3}, {'price': 191000, 'brand': 'Adidas', 'grip_score': 2.5, 'light_score': 3.8, 'comfortable': 4.2}, {'price': 142000, 'brand': 'Adidas', 'grip_score': 4.6, 'light_score': 3.7, 'comfortable': 2.3}, {'price': 171000, 'brand': 'Adidas', 'grip_score': 0.3, 'light_score': 0.9, 'comfortable': 4.2}, {'price': 135000, 'brand': 'Jordan', 'grip_score': 1.0, 'light_score': 3.8, 'comfortable': 1.3}]\n"
          ]
        }
      ],
      "source": [
        "# 신발간의 유사도를 이용 할 것이다.\n",
        "# 가격 / 브랜드 / 착화감 / 경량성 / 편의성 순으로 데이터화\n",
        "# 예시 데이터 제작\n",
        "brand_list = ['Adidas','Nike','Jordan','New Balace']\n",
        "product_list = []\n",
        "\n",
        "import random\n",
        "\n",
        "for i in range(10):\n",
        "  tmp = {}\n",
        "  tmp['price'] = random.randrange(90,200)*1000 # 9만부터 20만까지\n",
        "  tmp['brand'] = brand_list[random.randrange(3)]\n",
        "  tmp['grip_score'] = round(random.uniform(0,5),1)\n",
        "  tmp['light_score'] = round(random.uniform(0,5),1)\n",
        "  tmp['comfortable'] = round(random.uniform(0,5),1)\n",
        "\n",
        "  product_list.append(tmp)\n",
        "\n",
        "print(product_list)"
      ]
    },
    {
      "cell_type": "markdown",
      "source": [
        "**코사인 유사도**"
      ],
      "metadata": {
        "id": "xCSHucTOJ03I"
      }
    },
    {
      "cell_type": "code",
      "source": [
        "#코사인 유사도\n",
        "#벡터의 내적을 이용하여 만든 계산\n",
        "#벡터(데이터)가 이루는 각도의 값을 이용하여 계산\n",
        "# 전혀 같은 곳이 안보임 = > -1 똑같다 1 그 사이 -1~1 사이\n",
        "# (An * Bn)의 시그마값 / An제곱의 시그마 * Bn제곱의 시그마 \n",
        "\n",
        "import numpy as np\n",
        "from numpy import dot #\n",
        "from numpy.linalg import norm\n",
        "\n",
        "result = []\n",
        "\n",
        "def cos_sim(A,B):\n",
        "  A = np.array(list(A.values())[2:])\n",
        "  B = np.array(list(B.values())[2:])\n",
        "  return dot(A,B) / (norm(A) * norm(B))\n",
        "\n",
        "for i in range(len(product_list)):\n",
        "  for j in range(len(product_list)):\n",
        "    result.append(round(cos_sim(product_list[i],product_list[j]),4))"
      ],
      "metadata": {
        "id": "LfqNCSOFKwSr"
      },
      "execution_count": 11,
      "outputs": []
    },
    {
      "cell_type": "markdown",
      "source": [
        "유클리디안 유사도"
      ],
      "metadata": {
        "id": "IEkGNL-6Jh8C"
      }
    },
    {
      "cell_type": "code",
      "source": [
        "# 유클리디안 유사도\n",
        "# 유클리드 거리 - 두 점 사이의 거리를 계산하는 방식을 이용\n",
        "# 두 점 사이의 거리 즉, 유클리드 거릿값이 클수록 유사도가 적은 것이고 작을수록 유사도가 높다. 작은 값부터 차례대로 유저에게 추천을 한다면 이론상은 맞다.\n",
        "# 브랜드는 비교시에 같으면 1 아니면 0 으로\n",
        "\n",
        "import math \n",
        "\n",
        "for i in range(len(product_list)):\n",
        "  for j in range(len(product_list)):\n",
        "    brand_flag  = 0\n",
        "    if product_list[i]['brand'] == product_list[j]['brand']:\n",
        "      brand_flag = 1\n",
        "    dis = math.sqrt(pow(product_list[i]['grip_score']-product_list[j]['grip_score'],2) + pow(product_list[i]['light_score'] - product_list[j]['light_score'],2) + pow(product_list[i]['comfortable'] - product_list[j]['comfortable'],2))"
      ],
      "metadata": {
        "id": "elWtuLTV-Znp"
      },
      "execution_count": null,
      "outputs": []
    },
    {
      "cell_type": "code",
      "source": [
        "print(product_list[0])\n",
        "print(product_list[9])"
      ],
      "metadata": {
        "colab": {
          "base_uri": "https://localhost:8080/"
        },
        "id": "sreHO56jL3xz",
        "outputId": "aaaf8d7e-c6bb-4d17-8a71-884c520a9b3a"
      },
      "execution_count": null,
      "outputs": [
        {
          "output_type": "stream",
          "name": "stdout",
          "text": [
            "{'price': 114000, 'brand': 'Jordan', 'grip_score': 0.0, 'light_score': 1.7, 'comfortable': 1.8}\n",
            "{'price': 96000, 'brand': 'Adidas', 'grip_score': 0.1, 'light_score': 1.3, 'comfortable': 1.1}\n"
          ]
        }
      ]
    }
  ]
}